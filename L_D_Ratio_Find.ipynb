{
  "nbformat": 4,
  "nbformat_minor": 0,
  "metadata": {
    "colab": {
      "provenance": [],
      "toc_visible": true,
      "include_colab_link": true
    },
    "kernelspec": {
      "name": "python3",
      "display_name": "Python 3"
    },
    "language_info": {
      "name": "python"
    }
  },
  "cells": [
    {
      "cell_type": "markdown",
      "metadata": {
        "id": "view-in-github",
        "colab_type": "text"
      },
      "source": [
        "<a href=\"https://colab.research.google.com/github/Shubhamgopale99/All-SQL-Command/blob/main/L_D_Ratio_Find.ipynb\" target=\"_parent\"><img src=\"https://colab.research.google.com/assets/colab-badge.svg\" alt=\"Open In Colab\"/></a>"
      ]
    },
    {
      "cell_type": "markdown",
      "source": [
        "# Volume To Tank Dimension"
      ],
      "metadata": {
        "id": "7CFmePqiuJCp"
      }
    },
    {
      "cell_type": "code",
      "source": [
        "import math\n",
        "\n",
        "def calculate_dimensions(volume, min_ratio=1.25, max_ratio=2.0):\n",
        "    \"\"\"\n",
        "    Calculate tank dimensions (diameter and height) for given volume and L/D ratio bounds.\n",
        "    \"\"\"\n",
        "    results = []\n",
        "    for ratio in (min_ratio, max_ratio):\n",
        "        diameter = ((4 * volume) / (math.pi * ratio)) ** (1 / 3)\n",
        "        height = ratio * diameter\n",
        "        results.append({\n",
        "            \"L/D Ratio\": ratio,\n",
        "            \"Diameter (m)\": diameter,\n",
        "            \"Height (m)\": height\n",
        "        })\n",
        "    return results\n",
        "\n",
        "def print_results(volume, results, label=\"\", margin_percent=None):\n",
        "    if margin_percent is not None:\n",
        "        print(f\"\\n{label}Volume: {volume:.3f} m³ ({margin_percent:.0f}% margin added)\")\n",
        "    else:\n",
        "        print(f\"\\n{label}Volume: {volume:.3f} m³\")\n",
        "\n",
        "    print(f\"{'L/D Ratio':<12}{'Diameter (m)':<15}{'Height (m)':<15}\")\n",
        "    for s in results:\n",
        "        print(f\"{s['L/D Ratio']:<12.2f}{s['Diameter (m)']:<15.3f}{s['Height (m)']:<15.3f}\")\n",
        "\n",
        "def main():\n",
        "    # User input\n",
        "    volume = float(input(\"Enter operating tank volume (m³): \"))\n",
        "    min_ratio = float(input(\"Enter minimum L/D ratio [default 1.25]: \") or 1.25)\n",
        "    max_ratio = float(input(\"Enter maximum L/D ratio [default 2.0]: \") or 2.0)\n",
        "\n",
        "    # Margin input\n",
        "    margin_input = input(\"Enter volume margin to add (%) [or leave blank for none]: \").strip()\n",
        "    margin_percent = float(margin_input) if margin_input else None\n",
        "\n",
        "    # Operating volume calculations\n",
        "    op_results = calculate_dimensions(volume, min_ratio, max_ratio)\n",
        "    print_results(volume, op_results, label=\"Operating \")\n",
        "\n",
        "    # Gross volume calculations (if margin provided)\n",
        "    if margin_percent is not None:\n",
        "        gross_volume = volume * (1 + margin_percent / 100)\n",
        "        gross_results = calculate_dimensions(gross_volume, min_ratio, max_ratio)\n",
        "        print_results(gross_volume, gross_results, label=\"Gross \", margin_percent=margin_percent)\n",
        "\n",
        "if __name__ == \"__main__\":\n",
        "    main()\n"
      ],
      "metadata": {
        "colab": {
          "base_uri": "https://localhost:8080/"
        },
        "id": "n4FuInESuR7h",
        "outputId": "624eefab-250c-4d37-cf28-3adb1c06abaf"
      },
      "execution_count": null,
      "outputs": [
        {
          "output_type": "stream",
          "name": "stdout",
          "text": [
            "Enter operating tank volume (m³): 15\n",
            "Enter minimum L/D ratio [default 1.25]: \n",
            "Enter maximum L/D ratio [default 2.0]: \n",
            "Enter volume margin to add (%) [or leave blank for none]: \n",
            "\n",
            "Operating Volume: 15.000 m³\n",
            "L/D Ratio   Diameter (m)   Height (m)     \n",
            "1.25        2.481          3.102          \n",
            "2.00        2.122          4.243          \n"
          ]
        }
      ]
    },
    {
      "cell_type": "markdown",
      "source": [
        "# Torispherical & Ellipsoidal Dish End Volume\n"
      ],
      "metadata": {
        "id": "VU9kg9tHbchV"
      }
    },
    {
      "cell_type": "code",
      "source": [
        "import math\n",
        "\n",
        "def calculate_torispherical_dish(tank_id_mm, sf_mm, dish_thk_mm):\n",
        "    crown_radius = tank_id_mm * 1.00\n",
        "    knuckle_radius = tank_id_mm * 0.10\n",
        "    dish_blank_dia = tank_id_mm + 0.10 * tank_id_mm + 2 * sf_mm\n",
        "    dish_end_height = (tank_id_mm * 0.194) + sf_mm + dish_thk_mm\n",
        "    d3 = tank_id_mm ** 3\n",
        "    d2 = tank_id_mm ** 2\n",
        "    volume_m3 = ((0.0847 * d3) + (math.pi * d2 * sf_mm) / 4) * 1e-6\n",
        "\n",
        "    return crown_radius, knuckle_radius, dish_blank_dia, dish_end_height, volume_m3\n",
        "\n",
        "def calculate_ellipsoidal_dish(tank_id_mm, sf_mm, dish_thk_mm):\n",
        "    crown_radius = 0.9 * tank_id_mm\n",
        "    dish_blank_dia = 1.17 * tank_id_mm + 2 * sf_mm\n",
        "    dish_end_height = (0.25 * tank_id_mm) + sf_mm + dish_thk_mm\n",
        "    d3 = tank_id_mm ** 3\n",
        "    d2 = tank_id_mm ** 2\n",
        "    volume_m3 = ((math.pi * d3) / 24 + (math.pi * d2 * sf_mm) / 4) * 1e-9\n",
        "\n",
        "    return crown_radius, dish_blank_dia, dish_end_height, volume_m3\n",
        "\n",
        "# Get user inputs\n",
        "try:\n",
        "    tank_id = float(input(\"Enter Tank ID (in mm): \"))\n",
        "    sf = float(input(\"Enter Straight Flange (SF) in mm: \"))\n",
        "    dish_thk = float(input(\"Enter Dish Thickness (in mm): \"))\n",
        "\n",
        "    # Calculate Torispherical Dish End\n",
        "    crown_r_torispherical, knuckle_r, blank_dia_torispherical, end_height_torispherical, volume_torispherical = calculate_torispherical_dish(tank_id, sf, dish_thk)\n",
        "\n",
        "    # Calculate Ellipsoidal Dish End\n",
        "    crown_r_ellipsoidal, blank_dia_ellipsoidal, end_height_ellipsoidal, volume_ellipsoidal = calculate_ellipsoidal_dish(tank_id, sf, dish_thk)\n",
        "\n",
        "    # Display Results for Both\n",
        "    print(\"\\n--- Torispherical Dish End Properties ---\")\n",
        "    print(f\"→ Crown Radius       : {crown_r_torispherical:.2f} mm\")\n",
        "    print(f\"→ Knuckle Radius     : {knuckle_r:.2f} mm\")\n",
        "    print(f\"→ Dish Blank Diameter: {blank_dia_torispherical:.2f} mm\")\n",
        "    print(f\"→ Dish End Height    : {end_height_torispherical:.2f} mm\")\n",
        "    print(f\"→ Dish End Volume    : {volume_torispherical:.6f} m³\")\n",
        "    print(f\"→                    : {volume_torispherical * 1000:.3f} liters\")\n",
        "\n",
        "    print(\"\\n--- Ellipsoidal Dish End Properties ---\")\n",
        "    print(f\"→ Crown Radius       : {crown_r_ellipsoidal:.2f} mm\")\n",
        "    print(f\"→ Dish Blank Diameter: {blank_dia_ellipsoidal:.2f} mm\")\n",
        "    print(f\"→ Dish End Height    : {end_height_ellipsoidal:.2f} mm\")\n",
        "    print(f\"→ Dish End Volume    : {volume_ellipsoidal:.6f} m³\")\n",
        "    print(f\"→                    : {volume_ellipsoidal * 1000:.3f} liters\")\n",
        "\n",
        "except ValueError:\n",
        "    print(\"Invalid input. Please enter numeric values.\")\n"
      ],
      "metadata": {
        "colab": {
          "base_uri": "https://localhost:8080/"
        },
        "id": "6vpBllxTtJse",
        "outputId": "e3d26227-3144-4ec5-a78e-bdd00fb7a18f"
      },
      "execution_count": null,
      "outputs": [
        {
          "output_type": "stream",
          "name": "stdout",
          "text": [
            "Enter Tank ID (in mm): 2000\n",
            "Enter Straight Flange (SF) in mm: 50\n",
            "Enter Dish Thickness (in mm): 6\n",
            "\n",
            "--- Torispherical Dish End Properties ---\n",
            "→ Crown Radius       : 2000.00 mm\n",
            "→ Knuckle Radius     : 200.00 mm\n",
            "→ Dish Blank Diameter: 2300.00 mm\n",
            "→ Dish End Height    : 444.00 mm\n",
            "→ Dish End Volume    : 834.679633 m³\n",
            "→                    : 834679.633 liters\n",
            "\n",
            "--- Ellipsoidal Dish End Properties ---\n",
            "→ Crown Radius       : 1800.00 mm\n",
            "→ Dish Blank Diameter: 2440.00 mm\n",
            "→ Dish End Height    : 556.00 mm\n",
            "→ Dish End Volume    : 1.204277 m³\n",
            "→                    : 1204.277 liters\n"
          ]
        }
      ]
    },
    {
      "cell_type": "markdown",
      "source": [
        "# Limpet Weight Calculation"
      ],
      "metadata": {
        "id": "EycTWbKfKjLl"
      }
    },
    {
      "cell_type": "code",
      "source": [
        "# Python script with input prompts to calculate Limpet Coil weight and heat transfer area\n",
        "\n",
        "def calculate_limpet_coil_weight():\n",
        "    import math\n",
        "\n",
        "    print(\"\\n--- Limpet Coil Weight Calculation ---\")\n",
        "    od = float(input(\"Enter Limpet Coil Outer Diameter (mm): \"))\n",
        "    thk = float(input(\"Enter Limpet Coil Thickness (mm): \"))\n",
        "    no_of_turns = float(input(\"Enter Number of Turns: \"))\n",
        "    dist_from_center = float(input(\"Enter Distance from Center (mm): \"))\n",
        "\n",
        "    # Weight calculation is based on geometric approximation of coil length\n",
        "    mean_dia = od - thk\n",
        "    mean_radius = dist_from_center\n",
        "    coil_length = 2 * math.pi * mean_radius * no_of_turns  # in mm\n",
        "    coil_length_m = coil_length / 1000  # convert to meters\n",
        "\n",
        "    # Assume density of carbon steel ~ 7.85 g/cm³ = 7850 kg/m³\n",
        "    # Approximate volume = pi * (OD^2 - ID^2)/4 * length\n",
        "    id = od - 2 * thk\n",
        "    volume = (math.pi / 4) * ((od / 1000) ** 2 - (id / 1000) ** 2) * coil_length_m\n",
        "    weight = volume * 7850  # in kg\n",
        "\n",
        "    print(f\"Estimated Limpet Coil Length: {coil_length_m:.2f} m\")\n",
        "    print(f\"Estimated Limpet Coil Weight: {weight:.2f} kg\")\n",
        "    return weight, coil_length_m\n",
        "\n",
        "\n",
        "def calculate_heat_transfer_area():\n",
        "    print(\"\\n--- Heat Transfer Area of Limpet Coil ---\")\n",
        "    dia = float(input(\"Enter Coil Diameter (mm): \"))\n",
        "    no_of_turns = float(input(\"Enter Number of Turns: \"))\n",
        "    vessel_dia = float(input(\"Enter Vessel Diameter (mm): \"))\n",
        "\n",
        "    # Surface area of a cylindrical coil section: π * d * L\n",
        "    # L = π * D * N\n",
        "    total_length = math.pi * vessel_dia * no_of_turns / 1000  # in meters\n",
        "    area = math.pi * (dia / 1000) * total_length  # in m²\n",
        "\n",
        "    print(f\"Total Coil Length: {total_length:.2f} m\")\n",
        "    print(f\"Heat Transfer Area: {area:.2f} m²\")\n",
        "    return area\n",
        "\n",
        "\n",
        "# Run both calculations\n",
        "if __name__ == \"__main__\":\n",
        "    import math\n",
        "    calculate_limpet_coil_weight()\n",
        "    calculate_heat_transfer_area()\n"
      ],
      "metadata": {
        "id": "w07caXKqKvmN"
      },
      "execution_count": null,
      "outputs": []
    },
    {
      "cell_type": "markdown",
      "source": [
        "#Heat Transfer Area of Limpet Coil"
      ],
      "metadata": {
        "id": "tqSDY1riKjhV"
      }
    },
    {
      "cell_type": "code",
      "source": [
        "# Python script with input prompts to calculate Limpet Coil weight and heat transfer area\n",
        "\n",
        "def calculate_heat_transfer_area():\n",
        "    import math\n",
        "    print(\"\\n--- Heat Transfer Area of Limpet Coil ---\")\n",
        "    dia = float(input(\"Enter Coil Diameter (mm): \"))\n",
        "    no_of_turns = float(input(\"Enter Number of Turns: \"))\n",
        "    vessel_dia = float(input(\"Enter Vessel Diameter (mm): \"))\n",
        "\n",
        "    # Surface area of a cylindrical coil section: π * d * L\n",
        "    # L = π * D * N\n",
        "    total_length = math.pi * vessel_dia * no_of_turns / 1000  # in meters\n",
        "    area = math.pi * (dia / 1000) * total_length  # in m²\n",
        "\n",
        "    print(f\"Total Coil Length: {total_length:.2f} m\")\n",
        "    print(f\"Heat Transfer Area: {area:.2f} m²\")\n",
        "    return area\n",
        "\n",
        "\n",
        "# Run both calculations\n",
        "if __name__ == \"__main__\":\n",
        "    import math\n",
        "    calculate_heat_transfer_area()"
      ],
      "metadata": {
        "id": "LRVoyQ0gUAFE",
        "colab": {
          "base_uri": "https://localhost:8080/"
        },
        "outputId": "cd7f444d-f538-4af2-e90c-6c2b77a60a98"
      },
      "execution_count": null,
      "outputs": [
        {
          "output_type": "stream",
          "name": "stdout",
          "text": [
            "\n",
            "--- Heat Transfer Area of Limpet Coil ---\n",
            "Enter Coil Diameter (mm): 100\n",
            "Enter Number of Turns: 15\n",
            "Enter Vessel Diameter (mm): 2500\n",
            "Total Coil Length: 117.81 m\n",
            "Heat Transfer Area: 37.01 m²\n"
          ]
        }
      ]
    },
    {
      "cell_type": "markdown",
      "source": [
        "# Find Arc length."
      ],
      "metadata": {
        "id": "ox_hO3Qf69Ql"
      }
    },
    {
      "cell_type": "code",
      "source": [
        "import math\n",
        "\n",
        "def calculate_arc_length(diameter, angle_deg):\n",
        "    radius = diameter / 2\n",
        "    arc_length = 2 * math.pi * radius * (angle_deg / 360)\n",
        "    return arc_length\n",
        "\n",
        "def main():\n",
        "    try:\n",
        "        diameter = float(input(\"Enter the diameter of the shell (in mm): \"))\n",
        "        angle_deg = float(input(\"Enter the angle of the RF pad (in degrees): \"))\n",
        "\n",
        "        arc_length = calculate_arc_length(diameter, angle_deg)\n",
        "        print(f\"Arc Length of RF pad for {angle_deg}° on {diameter} mm diameter shell = {arc_length:.2f} mm\")\n",
        "\n",
        "    except ValueError:\n",
        "        print(\"Please enter valid numerical values.\")\n",
        "\n",
        "if __name__ == \"__main__\":\n",
        "    main()\n"
      ],
      "metadata": {
        "id": "XRjjUKJJ7EnN",
        "outputId": "574152ea-e878-436b-9b09-994654881c9f",
        "colab": {
          "base_uri": "https://localhost:8080/"
        }
      },
      "execution_count": null,
      "outputs": [
        {
          "output_type": "stream",
          "name": "stdout",
          "text": [
            "Enter the diameter of the shell (in mm): 406\n",
            "Enter the angle of the RF pad (in degrees): 120\n",
            "Arc Length of RF pad for 120.0° on 406.0 mm diameter shell = 425.16 mm\n"
          ]
        }
      ]
    },
    {
      "cell_type": "markdown",
      "source": [
        "# Heat Transfer Area of Heat Exchanger."
      ],
      "metadata": {
        "id": "WcIajCZzDK_2"
      }
    },
    {
      "cell_type": "code",
      "source": [
        "import math\n",
        "\n",
        "# Take user input\n",
        "tube_dia_mm = float(input(\"Enter Tube Diameter (in mm): \"))\n",
        "tube_length_m = float(input(\"Enter Tube Length (in meters): \"))\n",
        "no_of_tubes = int(input(\"Enter Number of Tubes: \"))\n",
        "\n",
        "# Perform calculation\n",
        "result = (math.pi * tube_dia_mm * tube_length_m * no_of_tubes) / 1000\n",
        "\n",
        "# Display result\n",
        "print(f\"\\nHeat Transfer Area in m2: {result:.3f}\")\n"
      ],
      "metadata": {
        "colab": {
          "base_uri": "https://localhost:8080/"
        },
        "id": "vpn3YJQ-EHFB",
        "outputId": "c4622657-5716-41a1-ee06-40c2c893b565"
      },
      "execution_count": null,
      "outputs": [
        {
          "output_type": "stream",
          "name": "stdout",
          "text": [
            "Enter Tube Diameter (in mm): 19.05\n",
            "Enter Tube Length (in meters): 2\n",
            "Enter Number of Tubes: 65\n",
            "\n",
            "Heat Transfer Area in m2: 7.780\n"
          ]
        }
      ]
    },
    {
      "cell_type": "markdown",
      "source": [
        "# ASME UG-27 Code Calculation"
      ],
      "metadata": {
        "id": "Gk2_9FEGMezv"
      }
    },
    {
      "cell_type": "code",
      "source": [
        "def get_inputs():\n",
        "    print(\"\\n--- ASME UG-27 ---\")\n",
        "    print(\"\\n--- Enter Inputs ---\")\n",
        "\n",
        "    P = float(input(\"1. Design Pressure P (MPa): \"))\n",
        "    T = float(input(\"2. Design Temperature (°C): \"))\n",
        "\n",
        "    print(\"\\n3. Select Material:\")\n",
        "    print(\"   1. MS (ρ=7850)\")\n",
        "    print(\"   2. SA‑516 Gr 70 (ρ=7850)\")\n",
        "    print(\"   3. SA‑240 Gr 316 (ρ=8000)\")\n",
        "    print(\"   4. SA‑240 Gr 304 (ρ=8000)\")\n",
        "    print(\"   5. Other\")\n",
        "    choice = input(\"   Choice [1‑5]: \")\n",
        "\n",
        "    material_data = {\n",
        "        '1': ('MS', 7850),\n",
        "        '2': ('SA‑516 Gr 70', 7850),\n",
        "        '3': ('SA‑240 Gr 316', 8000),\n",
        "        '4': ('SA‑240 Gr 304', 8000)\n",
        "    }\n",
        "\n",
        "    if choice in material_data:\n",
        "        mat, rho = material_data[choice]\n",
        "    else:\n",
        "        mat = input(\"   Enter Material Name: \")\n",
        "        rho = float(input(\"   Enter Density (kg/m³): \"))\n",
        "\n",
        "    S = float(input(\"4. Allowable Stress S (MPa): \"))\n",
        "    Do = float(input(\"5. Outside Diameter Do (mm): \"))\n",
        "    L = float(input(\"6. Tangent-to-Tangent Length L (mm): \"))\n",
        "    t = float(input(\"7. Nominal Wall Thickness t (mm): \"))\n",
        "    Ca = float(input(\"8. Corrosion Allowance Ca (mm): \"))\n",
        "    mill_tol = float(input(\"9. Mill Tolerance (mm): \"))\n",
        "    E = float(input(\"10. Joint Efficiency E (0-1): \"))\n",
        "\n",
        "    return {\n",
        "        'P': P, 'T': T, 'Material': mat, 'Density': rho,\n",
        "        'S': S, 'Do': Do, 'L': L, 't': t,\n",
        "        'Ca': Ca, 'mill_tol': mill_tol, 'E': E\n",
        "    }\n",
        "\n",
        "def calculate(inputs):\n",
        "    t = inputs['t']\n",
        "    Ca = inputs['Ca']\n",
        "    mill_tol = inputs['mill_tol']\n",
        "    Do = inputs['Do']\n",
        "    P = inputs['P']\n",
        "    E = inputs['E']\n",
        "    S = inputs['S']\n",
        "\n",
        "    tc = t - Ca - mill_tol\n",
        "    if tc <= 0:\n",
        "        return \"❌ ERROR: Corroded thickness tc ≤ 0. Check inputs.\", None\n",
        "\n",
        "    R = Do / 2 - tc\n",
        "    t_req = (P * R) / (S * E - 0.6 * P)\n",
        "    t_total_req = t_req + Ca + mill_tol\n",
        "    MAWP = (S * E * tc) / (R + 0.6 * tc)\n",
        "\n",
        "    result = {\n",
        "        'tc': tc,\n",
        "        'R': R,\n",
        "        't_req': t_req,\n",
        "        't_total_req': t_total_req,\n",
        "        'MAWP': MAWP,\n",
        "        'status': '✅ OK' if t >= t_total_req else '❌ IS NOT ENOUGH!'\n",
        "    }\n",
        "\n",
        "    return None, result\n",
        "\n",
        "def show_results(inputs, result):\n",
        "    print(\"\\n--- Calculation Results ---\")\n",
        "    print(f\"Material: {inputs['Material']} | Density: {inputs['Density']} kg/m³\")\n",
        "    print(f\"Design Pressure: {inputs['P']} MPa\")\n",
        "    print(f\"Design Temperature: {inputs['T']} °C\")\n",
        "    print(f\"Allowable Stress: {inputs['S']} MPa\")\n",
        "    print(f\"Joint Efficiency: {inputs['E']}\")\n",
        "    print(f\"Corroded thickness tc = {result['tc']:.3f} mm\")\n",
        "    print(f\"Inside radius R = {result['R']:.3f} mm\")\n",
        "    print(f\"Required thickness (uncorro) t_req = {result['t_req']:.3f} mm\")\n",
        "    print(f\"Total required thickness = {result['t_total_req']:.3f} mm\")\n",
        "    print(f\"Provided thickness t = {inputs['t']:.3f} mm → {result['status']}\")\n",
        "    print(f\"MAWP (corroded) ≈ {result['MAWP']:.3f} MPa\")\n",
        "\n",
        "def edit_inputs(inputs):\n",
        "    print(\"\\n--- Edit Inputs ---\")\n",
        "    input_keys = list(inputs.keys())\n",
        "    for i, key in enumerate(input_keys, 1):\n",
        "        print(f\"{i}. {key}: {inputs[key]}\")\n",
        "\n",
        "    try:\n",
        "        choice = int(input(\"Enter number to edit (0 to cancel): \"))\n",
        "        if choice == 0:\n",
        "            return inputs\n",
        "\n",
        "        key = input_keys[choice - 1]\n",
        "        new_val = input(f\"Enter new value for '{key}': \")\n",
        "\n",
        "        if key in ['Density', 'Do', 'L', 't', 'Ca', 'mill_tol', 'P', 'E', 'S', 'T']:\n",
        "            inputs[key] = float(new_val)\n",
        "        else:\n",
        "            inputs[key] = new_val\n",
        "\n",
        "    except (ValueError, IndexError):\n",
        "        print(\"Invalid choice. No changes made.\")\n",
        "\n",
        "    return inputs\n",
        "\n",
        "def asme_shell_analysis():\n",
        "    inputs = get_inputs()\n",
        "\n",
        "    while True:\n",
        "        error, result = calculate(inputs)\n",
        "\n",
        "        if error:\n",
        "            print(error)\n",
        "            return\n",
        "\n",
        "        show_results(inputs, result)\n",
        "\n",
        "        print(\"\\nWhat do you want to do next?\")\n",
        "        print(\"1. Edit input\")\n",
        "        print(\"2. Exit\")\n",
        "        next_action = input(\"Enter choice [1/2]: \")\n",
        "\n",
        "        if next_action == '1':\n",
        "            inputs = edit_inputs(inputs)\n",
        "        else:\n",
        "            print(\"Exiting program.\")\n",
        "            break\n",
        "\n",
        "if __name__ == \"__main__\":\n",
        "    asme_shell_analysis()\n"
      ],
      "metadata": {
        "colab": {
          "base_uri": "https://localhost:8080/",
          "height": 408
        },
        "id": "MfwKi-iqMfaa",
        "outputId": "ed50c163-74fb-475d-c1a5-2cd129e2c4fd"
      },
      "execution_count": null,
      "outputs": [
        {
          "output_type": "stream",
          "name": "stdout",
          "text": [
            "\n",
            "--- ASME UG-27 ---\n",
            "\n",
            "--- Enter Inputs ---\n"
          ]
        },
        {
          "output_type": "error",
          "ename": "KeyboardInterrupt",
          "evalue": "Interrupted by user",
          "traceback": [
            "\u001b[0;31m---------------------------------------------------------------------------\u001b[0m",
            "\u001b[0;31mKeyboardInterrupt\u001b[0m                         Traceback (most recent call last)",
            "\u001b[0;32m/tmp/ipython-input-3335218815.py\u001b[0m in \u001b[0;36m<cell line: 0>\u001b[0;34m()\u001b[0m\n\u001b[1;32m    132\u001b[0m \u001b[0;34m\u001b[0m\u001b[0m\n\u001b[1;32m    133\u001b[0m \u001b[0;32mif\u001b[0m \u001b[0m__name__\u001b[0m \u001b[0;34m==\u001b[0m \u001b[0;34m\"__main__\"\u001b[0m\u001b[0;34m:\u001b[0m\u001b[0;34m\u001b[0m\u001b[0;34m\u001b[0m\u001b[0m\n\u001b[0;32m--> 134\u001b[0;31m     \u001b[0masme_shell_analysis\u001b[0m\u001b[0;34m(\u001b[0m\u001b[0;34m)\u001b[0m\u001b[0;34m\u001b[0m\u001b[0;34m\u001b[0m\u001b[0m\n\u001b[0m",
            "\u001b[0;32m/tmp/ipython-input-3335218815.py\u001b[0m in \u001b[0;36masme_shell_analysis\u001b[0;34m()\u001b[0m\n\u001b[1;32m    109\u001b[0m \u001b[0;34m\u001b[0m\u001b[0m\n\u001b[1;32m    110\u001b[0m \u001b[0;32mdef\u001b[0m \u001b[0masme_shell_analysis\u001b[0m\u001b[0;34m(\u001b[0m\u001b[0;34m)\u001b[0m\u001b[0;34m:\u001b[0m\u001b[0;34m\u001b[0m\u001b[0;34m\u001b[0m\u001b[0m\n\u001b[0;32m--> 111\u001b[0;31m     \u001b[0minputs\u001b[0m \u001b[0;34m=\u001b[0m \u001b[0mget_inputs\u001b[0m\u001b[0;34m(\u001b[0m\u001b[0;34m)\u001b[0m\u001b[0;34m\u001b[0m\u001b[0;34m\u001b[0m\u001b[0m\n\u001b[0m\u001b[1;32m    112\u001b[0m \u001b[0;34m\u001b[0m\u001b[0m\n\u001b[1;32m    113\u001b[0m     \u001b[0;32mwhile\u001b[0m \u001b[0;32mTrue\u001b[0m\u001b[0;34m:\u001b[0m\u001b[0;34m\u001b[0m\u001b[0;34m\u001b[0m\u001b[0m\n",
            "\u001b[0;32m/tmp/ipython-input-3335218815.py\u001b[0m in \u001b[0;36mget_inputs\u001b[0;34m()\u001b[0m\n\u001b[1;32m      3\u001b[0m     \u001b[0mprint\u001b[0m\u001b[0;34m(\u001b[0m\u001b[0;34m\"\\n--- Enter Inputs ---\"\u001b[0m\u001b[0;34m)\u001b[0m\u001b[0;34m\u001b[0m\u001b[0;34m\u001b[0m\u001b[0m\n\u001b[1;32m      4\u001b[0m \u001b[0;34m\u001b[0m\u001b[0m\n\u001b[0;32m----> 5\u001b[0;31m     \u001b[0mP\u001b[0m \u001b[0;34m=\u001b[0m \u001b[0mfloat\u001b[0m\u001b[0;34m(\u001b[0m\u001b[0minput\u001b[0m\u001b[0;34m(\u001b[0m\u001b[0;34m\"1. Design Pressure P (MPa): \"\u001b[0m\u001b[0;34m)\u001b[0m\u001b[0;34m)\u001b[0m\u001b[0;34m\u001b[0m\u001b[0;34m\u001b[0m\u001b[0m\n\u001b[0m\u001b[1;32m      6\u001b[0m     \u001b[0mT\u001b[0m \u001b[0;34m=\u001b[0m \u001b[0mfloat\u001b[0m\u001b[0;34m(\u001b[0m\u001b[0minput\u001b[0m\u001b[0;34m(\u001b[0m\u001b[0;34m\"2. Design Temperature (°C): \"\u001b[0m\u001b[0;34m)\u001b[0m\u001b[0;34m)\u001b[0m\u001b[0;34m\u001b[0m\u001b[0;34m\u001b[0m\u001b[0m\n\u001b[1;32m      7\u001b[0m \u001b[0;34m\u001b[0m\u001b[0m\n",
            "\u001b[0;32m/usr/local/lib/python3.11/dist-packages/ipykernel/kernelbase.py\u001b[0m in \u001b[0;36mraw_input\u001b[0;34m(self, prompt)\u001b[0m\n\u001b[1;32m   1175\u001b[0m                 \u001b[0;34m\"raw_input was called, but this frontend does not support input requests.\"\u001b[0m\u001b[0;34m\u001b[0m\u001b[0;34m\u001b[0m\u001b[0m\n\u001b[1;32m   1176\u001b[0m             )\n\u001b[0;32m-> 1177\u001b[0;31m         return self._input_request(\n\u001b[0m\u001b[1;32m   1178\u001b[0m             \u001b[0mstr\u001b[0m\u001b[0;34m(\u001b[0m\u001b[0mprompt\u001b[0m\u001b[0;34m)\u001b[0m\u001b[0;34m,\u001b[0m\u001b[0;34m\u001b[0m\u001b[0;34m\u001b[0m\u001b[0m\n\u001b[1;32m   1179\u001b[0m             \u001b[0mself\u001b[0m\u001b[0;34m.\u001b[0m\u001b[0m_parent_ident\u001b[0m\u001b[0;34m[\u001b[0m\u001b[0;34m\"shell\"\u001b[0m\u001b[0;34m]\u001b[0m\u001b[0;34m,\u001b[0m\u001b[0;34m\u001b[0m\u001b[0;34m\u001b[0m\u001b[0m\n",
            "\u001b[0;32m/usr/local/lib/python3.11/dist-packages/ipykernel/kernelbase.py\u001b[0m in \u001b[0;36m_input_request\u001b[0;34m(self, prompt, ident, parent, password)\u001b[0m\n\u001b[1;32m   1217\u001b[0m             \u001b[0;32mexcept\u001b[0m \u001b[0mKeyboardInterrupt\u001b[0m\u001b[0;34m:\u001b[0m\u001b[0;34m\u001b[0m\u001b[0;34m\u001b[0m\u001b[0m\n\u001b[1;32m   1218\u001b[0m                 \u001b[0;31m# re-raise KeyboardInterrupt, to truncate traceback\u001b[0m\u001b[0;34m\u001b[0m\u001b[0;34m\u001b[0m\u001b[0m\n\u001b[0;32m-> 1219\u001b[0;31m                 \u001b[0;32mraise\u001b[0m \u001b[0mKeyboardInterrupt\u001b[0m\u001b[0;34m(\u001b[0m\u001b[0;34m\"Interrupted by user\"\u001b[0m\u001b[0;34m)\u001b[0m \u001b[0;32mfrom\u001b[0m \u001b[0;32mNone\u001b[0m\u001b[0;34m\u001b[0m\u001b[0;34m\u001b[0m\u001b[0m\n\u001b[0m\u001b[1;32m   1220\u001b[0m             \u001b[0;32mexcept\u001b[0m \u001b[0mException\u001b[0m\u001b[0;34m:\u001b[0m\u001b[0;34m\u001b[0m\u001b[0;34m\u001b[0m\u001b[0m\n\u001b[1;32m   1221\u001b[0m                 \u001b[0mself\u001b[0m\u001b[0;34m.\u001b[0m\u001b[0mlog\u001b[0m\u001b[0;34m.\u001b[0m\u001b[0mwarning\u001b[0m\u001b[0;34m(\u001b[0m\u001b[0;34m\"Invalid Message:\"\u001b[0m\u001b[0;34m,\u001b[0m \u001b[0mexc_info\u001b[0m\u001b[0;34m=\u001b[0m\u001b[0;32mTrue\u001b[0m\u001b[0;34m)\u001b[0m\u001b[0;34m\u001b[0m\u001b[0;34m\u001b[0m\u001b[0m\n",
            "\u001b[0;31mKeyboardInterrupt\u001b[0m: Interrupted by user"
          ]
        }
      ]
    }
  ]
}